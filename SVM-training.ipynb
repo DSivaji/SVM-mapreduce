{
 "metadata": {
  "name": ""
 },
 "nbformat": 3,
 "nbformat_minor": 0,
 "worksheets": [
  {
   "cells": [
    {
     "cell_type": "code",
     "collapsed": false,
     "input": [
      "from sklearn import svm\n",
      "from sklearn import cross_validation\n",
      "import numpy as np\n",
      "import matplotlib.pyplot as plt"
     ],
     "language": "python",
     "metadata": {},
     "outputs": [],
     "prompt_number": 81
    },
    {
     "cell_type": "code",
     "collapsed": false,
     "input": [
      "def array_to_file(vectors, filename):\n",
      "    f_out = open(filename, \"w\")\n",
      "    if len(vectors.shape) == 2:\n",
      "        for vector in vectors:\n",
      "            strings = [\"%.2f\" % number for number in vector]\n",
      "            f_out.write(\"%s\\n\" % '\\t'.join(strings))\n",
      "    else:\n",
      "        strings = [\"%.2f\" % number for number in vectors]\n",
      "        f_out.write(\"%s\\n\" % '\\t'.join(strings))   \n",
      "    f_out.close()"
     ],
     "language": "python",
     "metadata": {},
     "outputs": [],
     "prompt_number": 82
    },
    {
     "cell_type": "code",
     "collapsed": false,
     "input": [
      "# Load data set\n",
      "file_training = \"data/Training50K.csv\"\n",
      "\n",
      "# read data values\n",
      "training_data = np.genfromtxt(file_training, dtype=float, skip_header=1, delimiter='\\t')\n",
      "\n",
      "# Features (data cols from 0 to 15)\n",
      "X = training_data[:,range(0,16)]\n",
      "\n",
      "# Labels (data cols)\n",
      "labels = {\"y1\": 15, \"y2\":16, \"y3\":17}\n",
      "label = \"y3\"\n",
      "y = training_data[:,labels[label]]\n",
      "print(\"\\nTraining SVM for %s label\" %label)"
     ],
     "language": "python",
     "metadata": {},
     "outputs": [
      {
       "output_type": "stream",
       "stream": "stdout",
       "text": [
        "\n",
        "Training SVM for y3 label\n"
       ]
      }
     ],
     "prompt_number": 83
    },
    {
     "cell_type": "code",
     "collapsed": false,
     "input": [
      "# K-Fold validation\n",
      "X_train, X_test, y_train, y_test = cross_validation.train_test_split(X, y, test_size=0.4, random_state=1)\n",
      "\n",
      "print(\"\\nK-Fold validation:\")\n",
      "print(\"X train: %s\" % str(X_train.shape))\n",
      "print(\"y train: %s\" % str(y_train.shape))\n",
      "print(\"X test: %s\" % str(X_test.shape))\n",
      "print(\"y test: %s\" % str(y_test.shape))"
     ],
     "language": "python",
     "metadata": {},
     "outputs": [
      {
       "output_type": "stream",
       "stream": "stdout",
       "text": [
        "\n",
        "K-Fold validation:\n",
        "X train: (30000, 16)\n",
        "y train: (30000,)\n",
        "X test: (20000, 16)\n",
        "y test: (20000,)\n"
       ]
      }
     ],
     "prompt_number": 84
    },
    {
     "cell_type": "code",
     "collapsed": false,
     "input": [
      "# Classify\n",
      "gamma_parameter = 0.001\n",
      "\n",
      "# Create model\n",
      "clf = svm.SVC(C=50., kernel='rbf', gamma=gamma_parameter, probability=False)\n",
      "\n",
      "# Clasify\n",
      "clf.fit(X_train, y_train) \n",
      "\n",
      "\n",
      "# Dump info about the model\n",
      "print(\"\\nSupported vectors length: %s\" % str(clf.support_vectors_.shape))\n",
      "print(\"Dual coef. length: %s\" % str(clf.dual_coef_.shape))"
     ],
     "language": "python",
     "metadata": {},
     "outputs": [
      {
       "output_type": "stream",
       "stream": "stdout",
       "text": [
        "\n",
        "Supported vectors length: (3638, 16)\n",
        "Dual coef. length: (1, 3638)\n"
       ]
      }
     ],
     "prompt_number": 85
    },
    {
     "cell_type": "code",
     "collapsed": false,
     "input": [
      "score = clf.score(X_test, y_test) \n",
      "print(\"\\nScore k-fold validation: %f\" % score)"
     ],
     "language": "python",
     "metadata": {},
     "outputs": [
      {
       "output_type": "stream",
       "stream": "stdout",
       "text": [
        "\n",
        "Score k-fold validation: 0.949350\n"
       ]
      }
     ],
     "prompt_number": 86
    },
    {
     "cell_type": "code",
     "collapsed": false,
     "input": [
      "# Save support vectors in a file\n",
      "array_to_file(clf.support_vectors_, \"data/svm_models/%s_model_supported_vectors.tsv\" % label)\n",
      "array_to_file(clf.dual_coef_, \"data/svm_models/%s_model_dual_coef.tsv\" % label)\n",
      "\n",
      "array_to_file(X_test, \"data/svm_models/%s_model_X_test.tsv\" % label)\n",
      "array_to_file(y_test, \"data/svm_models/%s_model_y_test.tsv\" % label)\n",
      "\n",
      "array_to_file(X_train, \"data/svm_models/%s_model_X_train.tsv\" % label)\n",
      "array_to_file(y_train, \"data/svm_models/%s_model_y_train.tsv\" % label)"
     ],
     "language": "python",
     "metadata": {},
     "outputs": [],
     "prompt_number": 87
    },
    {
     "cell_type": "code",
     "collapsed": false,
     "input": [
      "# Vector index to test (from dataset)\n",
      "index = 1\n",
      "vector = X[index]\n",
      "print(\"\\nVector %s Labeled: %s Model prediction: %s\" % (index, y[index], clf.predict(vector)))\n",
      "\n",
      "sum_up = 0\n",
      "for i in range(0, clf.support_vectors_.shape[0]):\n",
      "    sum_up = sum_up + (clf.dual_coef_[0,i] * np.linalg.norm(vector - clf.support_vectors_[i]))\n",
      "        \n",
      "print(\"Decision function: %s\" % clf.decision_function(vector))\n",
      "if sum_up < 0.0:\n",
      "    print([0])\n",
      "else:\n",
      "    print([1])"
     ],
     "language": "python",
     "metadata": {},
     "outputs": [
      {
       "output_type": "stream",
       "stream": "stdout",
       "text": [
        "\n",
        "Vector 1 Labeled: 0.0 Model prediction: [ 0.]\n",
        "Decision function: [[-5.43851781]]"
       ]
      },
      {
       "output_type": "stream",
       "stream": "stdout",
       "text": [
        "\n",
        "[0]\n"
       ]
      }
     ],
     "prompt_number": 88
    },
    {
     "cell_type": "code",
     "collapsed": false,
     "input": [],
     "language": "python",
     "metadata": {},
     "outputs": [],
     "prompt_number": 88
    }
   ],
   "metadata": {}
  }
 ]
}